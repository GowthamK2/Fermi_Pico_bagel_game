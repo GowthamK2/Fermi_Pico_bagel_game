{
  "nbformat": 4,
  "nbformat_minor": 0,
  "metadata": {
    "colab": {
      "provenance": [],
      "authorship_tag": "ABX9TyNmCiXp46U/4KjMstvysaL+",
      "include_colab_link": true
    },
    "kernelspec": {
      "name": "python3",
      "display_name": "Python 3"
    },
    "language_info": {
      "name": "python"
    }
  },
  "cells": [
    {
      "cell_type": "markdown",
      "metadata": {
        "id": "view-in-github",
        "colab_type": "text"
      },
      "source": [
        "<a href=\"https://colab.research.google.com/github/GowthamK2/Fermi_Pico_bagel_game/blob/main/Fermi_Pico_bagel_game.ipynb\" target=\"_parent\"><img src=\"https://colab.research.google.com/assets/colab-badge.svg\" alt=\"Open In Colab\"/></a>"
      ]
    },
    {
      "cell_type": "code",
      "source": [
        "original_number = '548'\n",
        "\n",
        "while True :\n",
        "    output = []\n",
        "    guess_number = input('\\nGuess the number: ')\n",
        "\n",
        "    if len((guess_number)) != len(original_number):\n",
        "        print(f'Enter {len(original_number)} digit number')\n",
        "        continue\n",
        "\n",
        "    if len(guess_number)  != len(set(guess_number)):\n",
        "        print('Duplicate number')\n",
        "        continue\n",
        "\n",
        "    if (int(guess_number) - int(original_number)) == 0 :\n",
        "        print(' Fermi '*len(original_number))\n",
        "        print('\\nYou won !!')\n",
        "        break\n",
        "\n",
        "    for i in range(len(original_number)):\n",
        "        for j in range(len(guess_number)):\n",
        "            if original_number[i] == guess_number[j]:\n",
        "                if i == j:\n",
        "                    output.append('Fermi')\n",
        "                else:\n",
        "                    output.append('Pico')\n",
        "\n",
        "    output_string = ''\n",
        "    for item in output :\n",
        "        output_string = output_string + ' ' + item\n",
        "\n",
        "\n",
        "    if len(output) == 0:\n",
        "        print(' Bagels')\n",
        "    else:\n",
        "        print(output_string)"
      ],
      "metadata": {
        "colab": {
          "base_uri": "https://localhost:8080/"
        },
        "id": "8f8NRWWkrB1c",
        "outputId": "cc391e79-3ca9-408d-8d86-087b05c47686"
      },
      "execution_count": 9,
      "outputs": [
        {
          "output_type": "stream",
          "name": "stdout",
          "text": [
            "\n",
            "Guess the number: 456\n",
            " Pico Pico\n",
            "\n",
            "Guess the number: 457\n",
            " Pico Pico\n",
            "\n",
            "Guess the number: 458\n",
            " Pico Pico Fermi\n",
            "\n",
            "Guess the number: 548\n",
            " Fermi  Fermi  Fermi \n",
            "\n",
            "You won !!\n"
          ]
        }
      ]
    }
  ]
}